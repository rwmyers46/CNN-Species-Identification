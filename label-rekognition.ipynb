{
 "cells": [
  {
   "cell_type": "markdown",
   "metadata": {},
   "source": [
    "## Verify & Clean Image Labels with AWS Rekognition:\n",
    "\n",
    "The code below was written to employ AWS Rekognition to verify training set imagery labels and remove files with multiple instances of the target label, extraneous objects or other noise likely to confuse the model. This alone increased my model accuracy by 15.7%. "
   ]
  },
  {
   "cell_type": "code",
   "execution_count": 1,
   "metadata": {},
   "outputs": [],
   "source": [
    "import boto3"
   ]
  },
  {
   "cell_type": "code",
   "execution_count": null,
   "metadata": {},
   "outputs": [],
   "source": [
    "# set up boto3 S3 and Rekognition clients:\n",
    "\n",
    "s3_client = boto3.client('s3')\n",
    "\n",
    "bucket_name = 'bucket-name'\n",
    "prefix = '/images-directory-path/'\n",
    "\n",
    "rek_client = boto3.client(\n",
    "    \"rekognition\",\n",
    "    aws_access_key_id = \"access_key_id\",\n",
    "    aws_secret_access_key = \"your_secret_key\",\n",
    "    region_name = \"us-east-1\"\n",
    ")"
   ]
  },
  {
   "cell_type": "markdown",
   "metadata": {},
   "source": [
    "In the script below, the primary labels for the species of interest are captured by first processing 3 test images with Rekognition. These `test_images` are manually selected as model representations of the target label. These images are then saved to the set `test_labels` against which other photos in the directory are compared."
   ]
  },
  {
   "cell_type": "code",
   "execution_count": 1,
   "metadata": {},
   "outputs": [],
   "source": [
    "# Generate a test_labels list by loading photos consecutively and capturing Rekognition's response. \n",
    "\n",
    "test_images = ['image-1-path, image-2-path, image-3-path']\n",
    "animal_list = []\n",
    "test_labels = {}\n",
    "keyString_list = []\n",
    "bad_pics = 0\n",
    "\n",
    "for img in test_images:\n",
    "\n",
    "    response = rek_client.detect_labels(\n",
    "        Image={\n",
    "            'S3Object': {\n",
    "                'Bucket': bucket_name,\n",
    "                'Name': img,\n",
    "            }\n",
    "        },\n",
    "        MaxLabels = 10,\n",
    "    )\n",
    "\n",
    "    for label in response['Labels']:\n",
    "        if label['Confidence'] > 85:\n",
    "            animal_list.append(label['Name'])\n",
    "\n",
    "# creat a set of unique image labels from our test images\n",
    "\n",
    "test_labels = set(animal_list)\n",
    "\n",
    "\n",
    "# create an object type botocore.paginate.PageIterator from images in s3 bucket:\n",
    "\n",
    "paginator = s3_client.get_paginator('list_objects_v2')\n",
    "result = paginator.paginate(Bucket = bucket_name, Prefix = prefix)\n",
    "\n",
    "# unpack the image file keystrings from the paginator results:\n",
    "\n",
    "for page in result:\n",
    "    if \"Contents\" in page:\n",
    "        for key in page[ \"Contents\" ]:\n",
    "            keyString = key[ \"Key\" ]\n",
    "            keyString_list.append(keyString)\n",
    "            \n",
    "# call Rekognition with the file's keyString:\n",
    "            \n",
    "            try:\n",
    "                rek_response = rek_client.detect_labels(\n",
    "                    Image={\n",
    "                        'S3Object': {\n",
    "                            'Bucket': bucket_name,\n",
    "                            'Name': keyString,\n",
    "                        }\n",
    "                    },\n",
    "                    MaxLabels = 10,\n",
    "                )\n",
    "                \n",
    "# append response labels above confidence > 85% to labels_list:\n",
    "\n",
    "                labels_list = []\n",
    "                for label in rek_response['Labels']:\n",
    "                    if label['Confidence'] > 85:\n",
    "                        labels_list.append(label['Name'])\n",
    "                \n",
    "# compare labels_list to test_labels and remove images lacking evidence of our desired subject:\n",
    "                \n",
    "                labels_list = set(labels_list)\n",
    "                if (not labels_list.intersection(test_labels)) or ('Person' in test_labels): \n",
    "                    s3_client.delete_object(Bucket = bucket_name, Key = keyString)\n",
    "                    bad_pics += 1\n",
    "                    \n",
    "            except:\n",
    "                print('Bad image:', keyString)\n",
    "\n",
    "print('{} images processed'.format(len(keyString_list)))\n",
    "print('Deleted {} images.'.format(bad_pics))\n"
   ]
  }
 ],
 "metadata": {
  "kernelspec": {
   "display_name": "Python 3",
   "language": "python",
   "name": "python3"
  },
  "language_info": {
   "codemirror_mode": {
    "name": "ipython",
    "version": 3
   },
   "file_extension": ".py",
   "mimetype": "text/x-python",
   "name": "python",
   "nbconvert_exporter": "python",
   "pygments_lexer": "ipython3",
   "version": "3.7.1"
  }
 },
 "nbformat": 4,
 "nbformat_minor": 2
}
